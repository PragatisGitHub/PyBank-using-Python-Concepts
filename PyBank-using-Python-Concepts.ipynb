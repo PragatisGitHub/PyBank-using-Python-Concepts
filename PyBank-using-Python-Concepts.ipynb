{
 "cells": [
  {
   "cell_type": "markdown",
   "metadata": {},
   "source": [
    "PyBank\n",
    "\n",
    "![Revenue](Images/revenue-per-lead.jpg)\n",
    "\n",
    "In this challenge, you are tasked with creating a Python script for analyzing the financial records of your company. You will be given two sets of revenue data (`budget_data_1.csv` and `budget_data_2.csv`). Each dataset is composed of two columns: `Date` and `Revenue`. (Thankfully, your company has rather lax standards for accounting so the records are simple.)\n",
    "\n",
    "Your task is to create a Python script that analyzes the records to calculate each of the following:\n",
    "\n",
    "* The total number of months included in the dataset\n",
    "\n",
    "* The total amount of revenue gained over the entire period\n",
    "\n",
    "* The average change in revenue between months over the entire period\n",
    "\n",
    "* The greatest increase in revenue (date and amount) over the entire period\n",
    "\n",
    "* The greatest decrease in revenue (date and amount) over the entire period\n",
    "\n",
    "As an example, your analysis should look similar to the one below:\n",
    "\n",
    "```\n",
    "Financial Analysis\n",
    "----------------------------\n",
    "Total Months: 25\n",
    "Total Revenue: $1241412\n",
    "Average Revenue Change: $216825\n",
    "Greatest Increase in Revenue: Sep-16 ($815531)\n",
    "Greatest Decrease in Revenue: Aug-12 ($-652794)\n",
    "```\n",
    "\n",
    "Your final script must be able to handle any such similarly structured dataset in the future (your boss is going to give you more of these -- so your script has to work for the ones to come). In addition, your final script should both print the analysis to the terminal and export a text file with the results.\n"
   ]
  },
  {
   "cell_type": "code",
   "execution_count": 1,
   "metadata": {},
   "outputs": [],
   "source": [
    "import csv\n",
    "import os"
   ]
  },
  {
   "cell_type": "code",
   "execution_count": 3,
   "metadata": {},
   "outputs": [],
   "source": [
    "input_csv_path = os.path.join(\"raw_data\",\"budget_data_1.csv\")"
   ]
  },
  {
   "cell_type": "code",
   "execution_count": 4,
   "metadata": {},
   "outputs": [],
   "source": [
    "output_text_file = os.path.join(\"Output\",\"Financial_records1.txt\")"
   ]
  },
  {
   "cell_type": "code",
   "execution_count": 19,
   "metadata": {},
   "outputs": [],
   "source": [
    "FinData = {}\n",
    "FirstRec = True\n",
    "TotalMonths = 0\n",
    "TotalRevenue = 0\n",
    "RevChangeSum = 0\n",
    "with open(input_csv_path) as csvhandler:\n",
    "    csv_data = csv.reader(csvhandler,delimiter=',')\n",
    "    next(csvhandler)\n",
    "    for row in csv_data:\n",
    "        if FirstRec:\n",
    "            FirstRec = False\n",
    "            prev_rev = int(row[1])\n",
    "            TotalRevenue += int(row[1])\n",
    "            TotalMonths += 1\n",
    "        else:\n",
    "            rev = int(row[1])\n",
    "            rev_change = rev-prev_rev\n",
    "            RevChangeSum += rev_change\n",
    "            FinData[row[0]] = rev_change\n",
    "            prev_rev = int(row[1])\n",
    "            TotalRevenue += int(row[1])\n",
    "            TotalMonths += 1\n",
    "            "
   ]
  },
  {
   "cell_type": "code",
   "execution_count": 21,
   "metadata": {},
   "outputs": [],
   "source": [
    "# print(FinData)"
   ]
  },
  {
   "cell_type": "code",
   "execution_count": 69,
   "metadata": {},
   "outputs": [
    {
     "name": "stdout",
     "output_type": "stream",
     "text": [
      "Financial Analysis\n",
      "----------------------------\n",
      "Total Months: 41\n",
      "Total Revenue: 18971412\n",
      "Average Revenue Change: -6758.975\n",
      "Greatest Increase in Revenue:Feb-16 $(1837235)\n",
      "Greatest Decrease in Revenue:Aug-14 $(-1779747)\n"
     ]
    }
   ],
   "source": [
    "print('Financial Analysis')\n",
    "print('----------------------------')\n",
    "print(f'Total Months: {TotalMonths}')\n",
    "print(f'Total Revenue: {TotalRevenue}')\n",
    "print(f'Average Revenue Change: {RevChangeSum/(TotalMonths-1)}')\n",
    "print(f'Greatest Increase in Revenue:{max(FinData.items(),key=lambda k: k[1])[0]} $({(max(FinData.items(),key=lambda k: k[1])[1])})')\n",
    "print(f'Greatest Decrease in Revenue:{min(FinData.items(),key=lambda k: k[1])[0]} $({(min(FinData.items(),key=lambda k: k[1])[1])})')"
   ]
  },
  {
   "cell_type": "code",
   "execution_count": 70,
   "metadata": {},
   "outputs": [],
   "source": [
    "with open(output_text_file,'w') as texthandler:\n",
    "    texthandler.write('Financial Analysis')\n",
    "    texthandler.write('----------------------------')\n",
    "    texthandler.write(f'Total Months: {TotalMonths}')\n",
    "    texthandler.write(f'Total Revenue: {TotalRevenue}')\n",
    "    texthandler.write(f'Average Revenue Change: {RevChangeSum/(TotalMonths-1)}')\n",
    "    texthandler.write(f'Greatest Increase in Revenue:{max(FinData.items(),key=lambda k: k[1])[0]} $({(max(FinData.items(),key=lambda k: k[1])[1])})')\n",
    "    texthandler.write(f'Greatest Decrease in Revenue:{min(FinData.items(),key=lambda k: k[1])[0]} $({(min(FinData.items(),key=lambda k: k[1])[1])})')"
   ]
  },
  {
   "cell_type": "code",
   "execution_count": 34,
   "metadata": {},
   "outputs": [
    {
     "data": {
      "text/plain": [
       "dict_keys(['Nov-12', 'Dec-12', 'Jan-13', 'Feb-13', 'Mar-13', 'Apr-13', 'May-13', 'Jun-13', 'Jul-13', 'Aug-13', 'Sep-13', 'Oct-13', 'Nov-13', 'Dec-13', 'Jan-14', 'Feb-14', 'Mar-14', 'Apr-14', 'May-14', 'Jun-14', 'Jul-14', 'Aug-14', 'Sep-14', 'Oct-14', 'Nov-14', 'Dec-14', 'Jan-15', 'Feb-15', 'Mar-15', 'Apr-15', 'May-15', 'Jun-15', 'Jul-15', 'Aug-15', 'Sep-15', 'Oct-15', 'Nov-15', 'Dec-15', 'Jan-16', 'Feb-16'])"
      ]
     },
     "execution_count": 34,
     "metadata": {},
     "output_type": "execute_result"
    }
   ],
   "source": [
    "FinData.keys()\n",
    "# max(FinData.keys())"
   ]
  },
  {
   "cell_type": "code",
   "execution_count": 38,
   "metadata": {},
   "outputs": [
    {
     "data": {
      "text/plain": [
       "1837235"
      ]
     },
     "execution_count": 38,
     "metadata": {},
     "output_type": "execute_result"
    }
   ],
   "source": [
    "max(FinData.values())\n",
    "FinData.values()"
   ]
  },
  {
   "cell_type": "code",
   "execution_count": 63,
   "metadata": {},
   "outputs": [],
   "source": [
    "# list(FinData.items())"
   ]
  },
  {
   "cell_type": "code",
   "execution_count": 62,
   "metadata": {
    "scrolled": true
   },
   "outputs": [
    {
     "data": {
      "text/plain": [
       "('Feb-16', 1837235)"
      ]
     },
     "execution_count": 62,
     "metadata": {},
     "output_type": "execute_result"
    }
   ],
   "source": [
    "max(FinData.items(),key=lambda k: k[1])"
   ]
  },
  {
   "cell_type": "code",
   "execution_count": 49,
   "metadata": {},
   "outputs": [
    {
     "data": {
      "text/plain": [
       "'Feb-16'"
      ]
     },
     "execution_count": 49,
     "metadata": {},
     "output_type": "execute_result"
    }
   ],
   "source": [
    "max(FinData.items(),key=lambda k: k[1])[0]"
   ]
  },
  {
   "cell_type": "code",
   "execution_count": 47,
   "metadata": {},
   "outputs": [
    {
     "data": {
      "text/plain": [
       "-1779747"
      ]
     },
     "execution_count": 47,
     "metadata": {},
     "output_type": "execute_result"
    }
   ],
   "source": [
    "min(FinData.items(),key=lambda k: k[1])[1]"
   ]
  },
  {
   "cell_type": "code",
   "execution_count": 48,
   "metadata": {},
   "outputs": [
    {
     "data": {
      "text/plain": [
       "'Aug-14'"
      ]
     },
     "execution_count": 48,
     "metadata": {},
     "output_type": "execute_result"
    }
   ],
   "source": [
    "min(FinData.items(),key=lambda k: k[1])[0]"
   ]
  },
  {
   "cell_type": "code",
   "execution_count": null,
   "metadata": {},
   "outputs": [],
   "source": []
  }
 ],
 "metadata": {
  "kernelspec": {
   "display_name": "Python 3",
   "language": "python",
   "name": "python3"
  },
  "language_info": {
   "codemirror_mode": {
    "name": "ipython",
    "version": 3
   },
   "file_extension": ".py",
   "mimetype": "text/x-python",
   "name": "python",
   "nbconvert_exporter": "python",
   "pygments_lexer": "ipython3",
   "version": "3.6.5"
  }
 },
 "nbformat": 4,
 "nbformat_minor": 2
}
